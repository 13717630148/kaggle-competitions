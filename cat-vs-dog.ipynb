{
 "cells": [
  {
   "cell_type": "code",
   "execution_count": 1,
   "metadata": {
    "_cell_guid": "b1076dfc-b9ad-4769-8c92-a6c4dae69d19",
    "_uuid": "8f2839f25d086af736a60e9eeb907d3b93b6e0e5"
   },
   "outputs": [
    {
     "name": "stdout",
     "output_type": "stream",
     "text": [
      "['vgg16-weights', 'dogs-vs-cats-redux-kernels-edition']\n",
      "['vgg16_weights.npz']\n"
     ]
    }
   ],
   "source": [
    "# This Python 3 environment comes with many helpful analytics libraries installed\n",
    "# It is defined by the kaggle/python docker image: https://github.com/kaggle/docker-python\n",
    "# For example, here's several helpful packages to load in \n",
    "\n",
    "import numpy as np # linear algebra\n",
    "import pandas as pd # data processing, CSV file I/O (e.g. pd.read_csv)\n",
    "import tensorflow as tf\n",
    "import cv2\n",
    "#import global_variable\n",
    "# Input data files are available in the \"../input/\" directory.\n",
    "# For example, running this (by clicking run or pressing Shift+Enter) will list the files in the input directory\n",
    "\n",
    "import os\n",
    "print(os.listdir(\"../input\"))\n",
    "print(os.listdir(\"../input/vgg16-weights\"))\n",
    "#print(os.listdir(\"../input/dogs-vs-cats-redux-kernels-edition/train\"))\n",
    "# Any results you write to the current directory are saved as output."
   ]
  },
  {
   "cell_type": "code",
   "execution_count": 2,
   "metadata": {},
   "outputs": [],
   "source": [
    "#os.path.exists(\"../input/dogs-vs-cats-redux-kernels-edition/test/1.jpg\")"
   ]
  },
  {
   "cell_type": "code",
   "execution_count": 3,
   "metadata": {},
   "outputs": [],
   "source": [
    "#os.path.exists(\"../input/dogs-vs-cats-redux-kernels-edition/test/test\") #这就是问题！"
   ]
  },
  {
   "cell_type": "code",
   "execution_count": 4,
   "metadata": {},
   "outputs": [],
   "source": [
    "class vgg16():\n",
    "    def __init__(self):\n",
    "        self.params=[]\n",
    "    def build(self,imgs):\n",
    "        self.conv1_1 = self.conv(\"conv1re_1\",imgs,64)\n",
    "        self.conv1_2 = self.conv(\"conv1_2\",self.conv1_1,64)\n",
    "        self.pool1 = self.maxpool(\"poolre1\",self.conv1_2)\n",
    "\n",
    "        #conv2\n",
    "        self.conv2_1 = self.conv(\"conv2_1\",self.pool1,128)\n",
    "        self.conv2_2 = self.conv(\"convwe2_2\",self.conv2_1,128)\n",
    "        self.pool2 = self.maxpool(\"pool2\",self.conv2_2)\n",
    "\n",
    "        #conv3\n",
    "        self.conv3_1 = self.conv(\"conv3_1\",self.pool2,256)\n",
    "        self.conv3_2 = self.conv(\"convrwe3_2\",self.conv3_1,256)\n",
    "        self.conv3_3 = self.conv(\"convrew3_3\",self.conv3_2,256)\n",
    "        self.pool3 = self.maxpool(\"poolre3\",self.conv3_3)\n",
    "\n",
    "        #conv4\n",
    "        self.conv4_1 = self.conv(\"conv4_1\",self.pool3,512)\n",
    "        self.conv4_2 = self.conv(\"convrwe4_2\",self.conv4_1,512)\n",
    "        self.conv4_3 = self.conv(\"conv4rwe_3\",self.conv4_2,512)\n",
    "        self.pool4 = self.maxpool(\"pool4\",self.conv4_3)\n",
    "\n",
    "\n",
    "        #conv5\n",
    "        self.conv5_1 = self.conv(\"conv5_1\",self.pool4,512)\n",
    "        self.conv5_2 = self.conv(\"convrwe5_2\",self.conv5_1,512)\n",
    "        self.conv5_3 = self.conv(\"conv5_3\",self.conv5_2,512)\n",
    "        self.pool5 = self.maxpool(\"poorwel5\",self.conv5_3)\n",
    "\n",
    "        #fc\n",
    "        self.fc6 = self.fc(\"fc6\", self.pool5, 4096) #,trainable=False)\n",
    "        self.fc7 = self.fc(\"fc7\", self.fc6, 4096) #=False)\n",
    "        self.fc8 = self.fc(\"fc8\", self.fc7, 2)    #1\n",
    "        \n",
    "        self.probs=self.fc8\n",
    "        \n",
    "    def maxpool(self,name,input_data):\n",
    "        out = tf.nn.max_pool(input_data,[1,2,2,1],[1,2,2,1],padding=\"SAME\",name=name)\n",
    "        return out\n",
    "    \n",
    "    def conv(self,name, input_data, out_channel, trainable=False):\n",
    "        in_channel = input_data.get_shape()[-1]\n",
    "        with tf.variable_scope(name,reuse=tf.AUTO_REUSE):\n",
    "            kernel = tf.get_variable(\"weights\", [3, 3, in_channel, out_channel], dtype=tf.float32,trainable=False)\n",
    "            biases = tf.get_variable(\"biases\", [out_channel], dtype=tf.float32,trainable=False)\n",
    "            conv_res = tf.nn.conv2d(input_data, kernel, [1, 1, 1, 1], padding=\"SAME\")\n",
    "            res = tf.nn.bias_add(conv_res, biases)\n",
    "            out = tf.nn.relu(res, name=name)\n",
    "        self.params += [kernel, biases]\n",
    "        return out\n",
    "    \n",
    "    def fc(self,name,input_data,out_channel,trainable = True):\n",
    "        \n",
    "        shape = input_data.get_shape().as_list()\n",
    "        if len(shape) == 4:\n",
    "            size = shape[-1] * shape[-2] * shape[-3]\n",
    "        else:\n",
    "            size = shape[1]\n",
    "        input_data_flat = tf.reshape(input_data,[-1,size])\n",
    "        \n",
    "        #input_data_flat =tf.layers.Flatten()(input_data)  #size有用\n",
    "        \n",
    "        with tf.variable_scope(name,reuse=tf.AUTO_REUSE):\n",
    "            weights = tf.get_variable(name=\"weights\",shape=[size,out_channel],dtype=tf.float32,trainable = trainable,initializer=tf.glorot_normal_initializer())\n",
    "            biases = tf.get_variable(name=\"biases\",shape=[out_channel],dtype=tf.float32,trainable = trainable)\n",
    "            res = tf.matmul(input_data_flat,weights)\n",
    "            out = tf.nn.relu(tf.nn.bias_add(res,biases))\n",
    "            #试一下正则化\n",
    "            if trainable == True:\n",
    "                tf.add_to_collection('losses',tf.contrib.layers.l2_regularizer(0.5)(weights))#试一下lambda:0.5-->0.4\n",
    "        self.params += [weights, biases]\n",
    "        return out\n",
    "    \n",
    "    def load_weights(self, weight_file, sess):\n",
    "        weights = np.load(weight_file)\n",
    "        keys = sorted(weights.keys())\n",
    "        for i, k in enumerate(keys):\n",
    "            if i not in [26,27,28,29,30,31]:\n",
    "                sess.run(self.params[i].assign(weights[k]))\n",
    "        print(\"-----------all done---------------\")\n",
    "    \n",
    "    def saver(self):\n",
    "        return tf.train.Saver()\n"
   ]
  },
  {
   "cell_type": "code",
   "execution_count": 5,
   "metadata": {},
   "outputs": [],
   "source": [
    "def get_file(path):    #path以'/'结尾\n",
    "    img_list=[]\n",
    "    label_list=[]\n",
    "    for img in os.listdir(path):\n",
    "        \n",
    "        species=img.split('.')[0]\n",
    "        if species=='cat':\n",
    "            label_list.append(0)\n",
    "            img_list.append(path+img)\n",
    "        elif species=='dog':\n",
    "            label_list.append(1)\n",
    "            img_list.append(path+img)\n",
    "    \"\"\"\n",
    "    state=np.random.get_state()\n",
    "    np.random.shuffle(img_list)\n",
    "    np.random.set_state(state)\n",
    "    np.random.shuffle(label_list)\n",
    "    \"\"\"\n",
    "    return img_list,label_list\n"
   ]
  },
  {
   "cell_type": "code",
   "execution_count": 6,
   "metadata": {},
   "outputs": [
    {
     "data": {
      "text/plain": [
       "'\\na=[[1,2]]\\nprint(a[0][1])\\n'"
      ]
     },
     "execution_count": 6,
     "metadata": {},
     "output_type": "execute_result"
    }
   ],
   "source": [
    "\"\"\"\n",
    "a=[[1,2]]\n",
    "print(a[0][1])\n",
    "\"\"\""
   ]
  },
  {
   "cell_type": "code",
   "execution_count": 7,
   "metadata": {},
   "outputs": [],
   "source": [
    "def aug(img):\n",
    "    if img.dtype!=tf.float32:\n",
    "        img=tf.image.convert_image_dtype(img,dtype=tf.float32)\n",
    "    img=tf.image.random_flip_left_right(img)\n",
    "    img=tf.image.random_flip_up_down(img)\n",
    "    #调整颜色没有写\n",
    "    return img"
   ]
  },
  {
   "cell_type": "code",
   "execution_count": 8,
   "metadata": {},
   "outputs": [],
   "source": [
    "def get_batch(img_list,label_list,batch_size,capacity,w=224,h=224):\n",
    "    img_list=tf.cast(img_list,tf.string)\n",
    "    label_list=tf.cast(label_list,tf.int32)\n",
    "    \n",
    "    queue=tf.train.slice_input_producer([img_list,label_list],shuffle=True,num_epochs=5)\n",
    "    label=queue[1]\n",
    "    img=queue[0]\n",
    "    img=tf.read_file(img)\n",
    "    img=tf.image.decode_jpeg(img,channels=3)\n",
    "    \n",
    "    img = tf.image.resize_image_with_crop_or_pad(img,w,h)\n",
    "    #img = tf.image.per_image_standardization(img)    #这句话有问题？对，因为生成测试数据时没有这么处理。\n",
    "    #我觉得这里还要加一个数据增强的步骤，否则这么多数据过拟合\n",
    "    #img=aug(img)   #卷积具有平移不变性，所以应该没有大作用？\n",
    "    img_batch,label_batch=tf.train.batch([img,label],batch_size=batch_size,capacity=capacity,num_threads=64,allow_smaller_final_batch=True)\n",
    "    #label_batch=tf.reshape.....\n",
    "    return img_batch,label_batch\n",
    "    \n",
    "    "
   ]
  },
  {
   "cell_type": "code",
   "execution_count": 9,
   "metadata": {},
   "outputs": [],
   "source": [
    "#tf.cast([1,0,1],tf.int32)"
   ]
  },
  {
   "cell_type": "code",
   "execution_count": 10,
   "metadata": {},
   "outputs": [],
   "source": [
    "imgs,labels=get_file('../input/dogs-vs-cats-redux-kernels-edition/train/')\n",
    "imgs_batch,labels_batch=get_batch(imgs,labels,32,25)"
   ]
  },
  {
   "cell_type": "code",
   "execution_count": 11,
   "metadata": {},
   "outputs": [],
   "source": [
    "#imgs.index('../input/dogs-vs-cats-redux-kernels-edition/train/train')  #他和 error"
   ]
  },
  {
   "cell_type": "code",
   "execution_count": 12,
   "metadata": {},
   "outputs": [],
   "source": [
    "x=tf.placeholder(tf.float32,[None,224,224,3])\n",
    "y=tf.placeholder(tf.int32,[None])\n",
    "\n",
    "model=vgg16()\n",
    "model.build(x)   #注意是x\n",
    "p=model.probs\n",
    "\n",
    "pred=tf.nn.softmax(p)\n",
    "\n",
    "cross_entropy=tf.nn.sparse_softmax_cross_entropy_with_logits(logits=p,labels=y)  #注意事项很多！\n",
    "loss=tf.reduce_mean(cross_entropy)\n",
    "loss+=tf.add_n(tf.get_collection('losses'))\n",
    "train_op=tf.train.AdamOptimizer(0.00001).minimize(loss)\n"
   ]
  },
  {
   "cell_type": "code",
   "execution_count": 13,
   "metadata": {},
   "outputs": [
    {
     "data": {
      "text/plain": [
       "'\\na=np.array([[1,1],[2,3]])\\nprint(a)\\n'"
      ]
     },
     "execution_count": 13,
     "metadata": {},
     "output_type": "execute_result"
    }
   ],
   "source": [
    "\"\"\"\n",
    "a=np.array([[1,1],[2,3]])\n",
    "print(a)\n",
    "\"\"\""
   ]
  },
  {
   "cell_type": "code",
   "execution_count": 14,
   "metadata": {},
   "outputs": [],
   "source": [
    "train_loss=[]"
   ]
  },
  {
   "cell_type": "code",
   "execution_count": 15,
   "metadata": {},
   "outputs": [
    {
     "name": "stdout",
     "output_type": "stream",
     "text": [
      "-----------all done---------------\n",
      "Done training\n",
      "done\n"
     ]
    }
   ],
   "source": [
    "with tf.Session() as sess:\n",
    "    sess.run(tf.global_variables_initializer())\n",
    "    sess.run(tf.local_variables_initializer())\n",
    "    \n",
    "    model.load_weights('../input/vgg16-weights/vgg16_weights.npz',sess)\n",
    "    saver=model.saver()\n",
    "    \n",
    "    coord = tf.train.Coordinator()\n",
    "    threads = tf.train.start_queue_runners(sess,coord)\n",
    "    \n",
    "    #import time\n",
    "    #start=time.time()\n",
    "    #for i in range(200):      #不好 \n",
    "    try:\n",
    "        while not coord.should_stop():\n",
    "            i_b,l_b=sess.run([imgs_batch,labels_batch])  #别忘了        \n",
    "            loss2,_=sess.run([loss,train_op],feed_dict={x:i_b,y:l_b})\n",
    "            train_loss.append(loss2)\n",
    "            #print(tmp)\n",
    "            \n",
    "            #print('loss:%f'%(loss2))  #sess左右不可重名\n",
    "            #end=time.time()\n",
    "            #print('time:%f'%(start-end))\n",
    "            #start=end\n",
    "            #print('epoch %d finish'%(i))\n",
    "    except tf.errors.OutOfRangeError:\n",
    "        print('Done training')\n",
    "    finally:    #肯定要执行\n",
    "        coord.request_stop()\n",
    "        #print('done')\n",
    "    print('done')\n",
    "    coord.join(threads)\n",
    "    saver.save(sess,'./model_save')\n"
   ]
  },
  {
   "cell_type": "code",
   "execution_count": 16,
   "metadata": {},
   "outputs": [],
   "source": [
    "import matplotlib.pyplot as plt"
   ]
  },
  {
   "cell_type": "code",
   "execution_count": 17,
   "metadata": {},
   "outputs": [
    {
     "data": {
      "text/plain": [
       "[<matplotlib.lines.Line2D at 0x7fe82c444c50>]"
      ]
     },
     "execution_count": 17,
     "metadata": {},
     "output_type": "execute_result"
    },
    {
     "data": {
      "image/png": "[encoded data removed]",
      "text/plain": [
       "<Figure size 1944x648 with 1 Axes>"
      ]
     },
     "metadata": {
      "needs_background": "light"
     },
     "output_type": "display_data"
    }
   ],
   "source": [
    "plt.figure(figsize=(27,9))\n",
    "plt.plot(np.arange(0,len(train_loss)),train_loss)"
   ]
  },
  {
   "cell_type": "code",
   "execution_count": 18,
   "metadata": {},
   "outputs": [],
   "source": [
    "def get_test(path):\n",
    "    img_path=[]\n",
    "    img_id=[]\n",
    "    for file in os.listdir(path):\n",
    "        id=file.split('.')[0]\n",
    "        if id !='test':\n",
    "            img_path.append(path+file)\n",
    "            img_id.append(id)\n",
    "    return img_path,img_id\n"
   ]
  },
  {
   "cell_type": "code",
   "execution_count": 19,
   "metadata": {},
   "outputs": [],
   "source": [
    "img_path,img_id=get_test(\"../input/dogs-vs-cats-redux-kernels-edition/test/\")"
   ]
  },
  {
   "cell_type": "code",
   "execution_count": 20,
   "metadata": {},
   "outputs": [],
   "source": [
    "img_p=[]"
   ]
  },
  {
   "cell_type": "code",
   "execution_count": 21,
   "metadata": {},
   "outputs": [
    {
     "name": "stdout",
     "output_type": "stream",
     "text": [
      "load done\n"
     ]
    }
   ],
   "source": [
    "with tf.Session() as sess:\n",
    "    sess.run(tf.global_variables_initializer())\n",
    "    sess.run(tf.local_variables_initializer())\n",
    "    saver=model.saver()\n",
    "    saver.restore(sess,'./model_save')\n",
    "    print('load done')\n",
    "    for i in img_path:\n",
    "        img=cv2.imread(i)\n",
    "        img=cv2.cvtColor(img, cv2.COLOR_BGR2RGB)\n",
    "        img=cv2.resize(img,(224,224))\n",
    "        #img=tf.image.per_image_standardization(img)  #看来函数中tensor与np可以混用\n",
    "        #img2=sess.run(img)\n",
    "        pre=sess.run(pred,feed_dict={x:[img]})  #img2\n",
    "        pre=pre[0][1]\n",
    "        #print(pre)\n",
    "        img_p.append(pre)\n",
    "        "
   ]
  },
  {
   "cell_type": "code",
   "execution_count": 22,
   "metadata": {},
   "outputs": [],
   "source": [
    "result=pd.DataFrame({'id':img_id,'label':img_p})\n",
    "result.to_csv('myresult.csv',index=False)"
   ]
  }
 ],
 "metadata": {
  "kernelspec": {
   "display_name": "Python 3",
   "language": "python",
   "name": "python3"
  },
  "language_info": {
   "codemirror_mode": {
    "name": "ipython",
    "version": 3
   },
   "file_extension": ".py",
   "mimetype": "text/x-python",
   "name": "python",
   "nbconvert_exporter": "python",
   "pygments_lexer": "ipython3",
   "version": "3.6.6"
  }
 },
 "nbformat": 4,
 "nbformat_minor": 1
}
