{
 "cells": [
  {
   "cell_type": "code",
   "execution_count": 1,
   "metadata": {
    "_cell_guid": "dfb2486b-9b97-426d-8a88-192897fb3216",
    "_uuid": "eef066ba-a78c-4ad5-921b-61c7141e0f49"
   },
   "outputs": [
    {
     "name": "stdout",
     "output_type": "stream",
     "text": [
      "['tensorflow-speech-recognition-challenge', 'silence']\n",
      "['silence']\n"
     ]
    }
   ],
   "source": [
    "# This Python 3 environment comes with many helpful analytics libraries installed\n",
    "# It is defined by the kaggle/python docker image: https://github.com/kaggle/docker-python\n",
    "# For example, here's several helpful packages to load in \n",
    "\n",
    "import numpy as np # linear algebra\n",
    "import pandas as pd # data processing, CSV file I/O (e.g. pd.read_csv)\n",
    "\n",
    "# Input data files are available in the \"../input/\" directory.\n",
    "# For example, running this (by clicking run or pressing Shift+Enter) will list the files in the input directory\n",
    "\n",
    "import os\n",
    "print(os.listdir(\"../input\"))\n",
    "print(os.listdir(\"../input/silence\"))\n",
    "#print(os.listdir(\"../input/tensorflow-speech-recognition-challenge\"))\n",
    "#print(os.listdir(\"../input/tensorflow-speech-recognition-challenge/train/audio\"))\n",
    "#print(len(os.listdir('../input/ssssss/silence')))\n",
    "#print(os.listdir(\"../input/test\"))\n",
    "# Any results you write to the current directory are saved as output."
   ]
  },
  {
   "cell_type": "code",
   "execution_count": 2,
   "metadata": {
    "_cell_guid": "a8668c72-3b68-4b11-b2d2-5a133c17abb2",
    "_uuid": "d497183f-9cf5-47f2-ae54-d75a02fd0407"
   },
   "outputs": [
    {
     "name": "stderr",
     "output_type": "stream",
     "text": [
      "Using TensorFlow backend.\n",
      "/opt/conda/lib/python3.6/site-packages/tensorflow/python/framework/dtypes.py:516: FutureWarning: Passing (type, 1) or '1type' as a synonym of type is deprecated; in a future version of numpy, it will be understood as (type, (1,)) / '(1,)type'.\n",
      "  _np_qint8 = np.dtype([(\"qint8\", np.int8, 1)])\n",
      "/opt/conda/lib/python3.6/site-packages/tensorflow/python/framework/dtypes.py:517: FutureWarning: Passing (type, 1) or '1type' as a synonym of type is deprecated; in a future version of numpy, it will be understood as (type, (1,)) / '(1,)type'.\n",
      "  _np_quint8 = np.dtype([(\"quint8\", np.uint8, 1)])\n",
      "/opt/conda/lib/python3.6/site-packages/tensorflow/python/framework/dtypes.py:518: FutureWarning: Passing (type, 1) or '1type' as a synonym of type is deprecated; in a future version of numpy, it will be understood as (type, (1,)) / '(1,)type'.\n",
      "  _np_qint16 = np.dtype([(\"qint16\", np.int16, 1)])\n",
      "/opt/conda/lib/python3.6/site-packages/tensorflow/python/framework/dtypes.py:519: FutureWarning: Passing (type, 1) or '1type' as a synonym of type is deprecated; in a future version of numpy, it will be understood as (type, (1,)) / '(1,)type'.\n",
      "  _np_quint16 = np.dtype([(\"quint16\", np.uint16, 1)])\n",
      "/opt/conda/lib/python3.6/site-packages/tensorflow/python/framework/dtypes.py:520: FutureWarning: Passing (type, 1) or '1type' as a synonym of type is deprecated; in a future version of numpy, it will be understood as (type, (1,)) / '(1,)type'.\n",
      "  _np_qint32 = np.dtype([(\"qint32\", np.int32, 1)])\n",
      "/opt/conda/lib/python3.6/site-packages/tensorflow/python/framework/dtypes.py:525: FutureWarning: Passing (type, 1) or '1type' as a synonym of type is deprecated; in a future version of numpy, it will be understood as (type, (1,)) / '(1,)type'.\n",
      "  np_resource = np.dtype([(\"resource\", np.ubyte, 1)])\n",
      "/opt/conda/lib/python3.6/site-packages/tensorboard/compat/tensorflow_stub/dtypes.py:541: FutureWarning: Passing (type, 1) or '1type' as a synonym of type is deprecated; in a future version of numpy, it will be understood as (type, (1,)) / '(1,)type'.\n",
      "  _np_qint8 = np.dtype([(\"qint8\", np.int8, 1)])\n",
      "/opt/conda/lib/python3.6/site-packages/tensorboard/compat/tensorflow_stub/dtypes.py:542: FutureWarning: Passing (type, 1) or '1type' as a synonym of type is deprecated; in a future version of numpy, it will be understood as (type, (1,)) / '(1,)type'.\n",
      "  _np_quint8 = np.dtype([(\"quint8\", np.uint8, 1)])\n",
      "/opt/conda/lib/python3.6/site-packages/tensorboard/compat/tensorflow_stub/dtypes.py:543: FutureWarning: Passing (type, 1) or '1type' as a synonym of type is deprecated; in a future version of numpy, it will be understood as (type, (1,)) / '(1,)type'.\n",
      "  _np_qint16 = np.dtype([(\"qint16\", np.int16, 1)])\n",
      "/opt/conda/lib/python3.6/site-packages/tensorboard/compat/tensorflow_stub/dtypes.py:544: FutureWarning: Passing (type, 1) or '1type' as a synonym of type is deprecated; in a future version of numpy, it will be understood as (type, (1,)) / '(1,)type'.\n",
      "  _np_quint16 = np.dtype([(\"quint16\", np.uint16, 1)])\n",
      "/opt/conda/lib/python3.6/site-packages/tensorboard/compat/tensorflow_stub/dtypes.py:545: FutureWarning: Passing (type, 1) or '1type' as a synonym of type is deprecated; in a future version of numpy, it will be understood as (type, (1,)) / '(1,)type'.\n",
      "  _np_qint32 = np.dtype([(\"qint32\", np.int32, 1)])\n",
      "/opt/conda/lib/python3.6/site-packages/tensorboard/compat/tensorflow_stub/dtypes.py:550: FutureWarning: Passing (type, 1) or '1type' as a synonym of type is deprecated; in a future version of numpy, it will be understood as (type, (1,)) / '(1,)type'.\n",
      "  np_resource = np.dtype([(\"resource\", np.ubyte, 1)])\n"
     ]
    }
   ],
   "source": [
    "from scipy.io import wavfile\n",
    "\n",
    "from scipy import signal\n",
    "from sklearn.model_selection import train_test_split\n",
    "#from sklearn.preprocessing import LabelBinarizer\n",
    "\n",
    "import keras\n",
    "\n",
    "from keras.layers import Conv2D, BatchNormalization, MaxPooling2D, Dense, Input, Dropout, Flatten\n",
    "from keras.models import Model\n",
    "from keras.optimizers import Adam\n",
    "#from keras.callbacks import TensorBoard"
   ]
  },
  {
   "cell_type": "code",
   "execution_count": 3,
   "metadata": {},
   "outputs": [],
   "source": [
    "#os.mkdir('silence')"
   ]
  },
  {
   "cell_type": "code",
   "execution_count": 4,
   "metadata": {},
   "outputs": [
    {
     "data": {
      "text/plain": [
       "\"\\ndef create_silence():\\n    \\n    #for i in range(1500):  #create 1500 sample\\n    seq=np.random.randint(6,size=(1500))\\n    ii=0\\n    for i in seq:\\n        cur_path='../input/train/audio/_background_noise_/'+silence_path[i]\\n        fs,x=wavfile.read(cur_path)\\n        start=np.random.randint(len(x)-16000+1)\\n        x=0.01*x[start:start+16000]\\n        wavfile.write('silence/'+'%d.wav'%(ii),fs,x)  #fs应该不变吧\\n        ii+=1\\n    return None \\n    \\n    x=np.zeros((16000),dtype='int16')\\n    wavfile.write('silence/'+'1.wav',16000,x)  #fs应该不变吧\\n    return None\\n\""
      ]
     },
     "execution_count": 4,
     "metadata": {},
     "output_type": "execute_result"
    }
   ],
   "source": [
    "\"\"\"\n",
    "def create_silence():\n",
    "    \n",
    "    #for i in range(1500):  #create 1500 sample\n",
    "    seq=np.random.randint(6,size=(1500))\n",
    "    ii=0\n",
    "    for i in seq:\n",
    "        cur_path='../input/train/audio/_background_noise_/'+silence_path[i]\n",
    "        fs,x=wavfile.read(cur_path)\n",
    "        start=np.random.randint(len(x)-16000+1)\n",
    "        x=0.01*x[start:start+16000]\n",
    "        wavfile.write('silence/'+'%d.wav'%(ii),fs,x)  #fs应该不变吧\n",
    "        ii+=1\n",
    "    return None \n",
    "    \n",
    "    x=np.zeros((16000),dtype='int16')\n",
    "    wavfile.write('silence/'+'1.wav',16000,x)  #fs应该不变吧\n",
    "    return None\n",
    "\"\"\""
   ]
  },
  {
   "cell_type": "code",
   "execution_count": 5,
   "metadata": {},
   "outputs": [],
   "source": [
    "#create_silence()"
   ]
  },
  {
   "cell_type": "code",
   "execution_count": 6,
   "metadata": {},
   "outputs": [],
   "source": [
    "#print(os.listdir('silence'))"
   ]
  },
  {
   "cell_type": "code",
   "execution_count": 7,
   "metadata": {
    "_cell_guid": "7ca642be-bdba-4faf-b5ea-fae50966a7b7",
    "_uuid": "da462199-61b9-40ec-9e18-e1b0bfc4013e"
   },
   "outputs": [],
   "source": [
    "import matplotlib.pyplot as plt"
   ]
  },
  {
   "cell_type": "code",
   "execution_count": 8,
   "metadata": {
    "_cell_guid": "daa72844-2683-4438-b907-376ab950a667",
    "_uuid": "bb0958d9-455d-4f5c-acc1-50454f978647"
   },
   "outputs": [],
   "source": [
    "def get_train_path(path):  #end with '/'\n",
    "    path_list=[]\n",
    "    label_list=[]\n",
    "    for species in os.listdir(path):\n",
    "        if species=='_background_noise_':\n",
    "            for file in os.listdir('../input/silence/silence/'):\n",
    "                if file.split('.')[-1]=='wav':\n",
    "            #for i in range(200):\n",
    "                    path_list.append('../input/silence/silence/'+file)\n",
    "                    label_list.append(species)    \n",
    "        else:\n",
    "            for file in os.listdir(path+species):\n",
    "                if file.split('.')[-1]=='wav':\n",
    "                    path_list.append(path+species+r'/'+file)\n",
    "                    label_list.append(species)\n",
    "    return path_list,label_list"
   ]
  },
  {
   "cell_type": "code",
   "execution_count": 9,
   "metadata": {
    "_cell_guid": "c12fa251-966b-4a72-829a-12378cef0953",
    "_uuid": "1f967c87-4e7c-4f16-bda5-de26499b6c94"
   },
   "outputs": [],
   "source": [
    "def get_test_path(path):  #end with '/'\n",
    "    path_list=[]\n",
    "    id_list=[]\n",
    "    for file in os.listdir(path):\n",
    "        if file.split('.')[-1]=='wav':\n",
    "            path_list.append(path+file)\n",
    "            id_list.append(file)\n",
    "    return path_list,id_list"
   ]
  },
  {
   "cell_type": "code",
   "execution_count": 10,
   "metadata": {
    "_cell_guid": "61480379-eca7-4f36-b9eb-7287ab82113c",
    "_uuid": "2ae22cef-872d-4eb3-9264-80c285088ab5"
   },
   "outputs": [],
   "source": [
    "train=['yes', 'no', 'up', 'down', 'left', 'right', 'on', 'off', 'stop', 'go']\n",
    "silence = ['_background_noise_']\n",
    "name2id={'yes':0, 'no':1, 'up':2, 'down':3, 'left':4, 'right':5, 'on':6, 'off':7, 'stop':8, 'go':9,\n",
    "        'silence':10,'unknown':11}\n",
    "id2name = {v : k for k, v in name2id.items()}"
   ]
  },
  {
   "cell_type": "code",
   "execution_count": 11,
   "metadata": {
    "_cell_guid": "af72459f-cd84-4027-bc3b-ede4c3737065",
    "_uuid": "77da3e79-5a40-4197-b8a2-33f5ff2b73ad"
   },
   "outputs": [],
   "source": [
    "def transform_label(label_list):\n",
    "    label_list2=[] #label_list\n",
    "    for i,label in enumerate(label_list):\n",
    "        if label in train:\n",
    "            label_list2.append(int(name2id[label]))\n",
    "        elif label =='_background_noise_':\n",
    "            label_list2.append(int(10))\n",
    "        else:\n",
    "            label_list2.append(int(11))\n",
    "    return label_list2"
   ]
  },
  {
   "cell_type": "code",
   "execution_count": 12,
   "metadata": {
    "_cell_guid": "f8f4d373-335d-43fc-8280-67a2f4f14d86",
    "_uuid": "8c1fb75d-db5a-4e5c-b8ef-b0937e6c713c"
   },
   "outputs": [],
   "source": [
    "def get_spectrogram(path_list,nsamples=16000,aug=True,beta=0.005):\n",
    "    wav=[wavfile.read(x)[1] for x in path_list]\n",
    "    data=[]\n",
    "    spectrogram=[]\n",
    "    for x in wav:\n",
    "        if len(x)<nsamples:  #x.size\n",
    "            data.append(np.pad(x,(nsamples-len(x),0),mode='constant'))\n",
    "        else:\n",
    "            data.append(x[0:nsamples])\n",
    "    for x in data:\n",
    "        #print(x)\n",
    "        if aug:  #数据增强，目前只应用白噪声#应该是randn，有负数\n",
    "            wn = np.random.randn(len(x))\n",
    "            x = x + beta*wn\n",
    "        spectrogram.append(signal.spectrogram(x,nperseg=256,noverlap=128)[2].reshape(129,124,-1))            \n",
    "    \"\"\"        \n",
    "    spectrogram=[signal.spectrogram(x,nperseg=256,noverlap=128)[2] for x in data]\n",
    "    #print(spectrogram[0].shape)  #(129,124)\n",
    "    spectrogram=[x.reshape(129,124,-1) for x in spectrogram]\n",
    "    #print(spectrogram[0].shape)    #(129,124,1)\n",
    "    \"\"\"\n",
    "    return spectrogram"
   ]
  },
  {
   "cell_type": "code",
   "execution_count": 13,
   "metadata": {
    "_cell_guid": "4dd94ccc-7173-4b0e-8255-9bf1c37370df",
    "_uuid": "80d62562-9119-456a-b596-94c533fb6aae"
   },
   "outputs": [],
   "source": [
    "train_path_list,train_label_list=get_train_path('../input/tensorflow-speech-recognition-challenge/train/audio/')\n",
    "state=np.random.get_state()\n",
    "np.random.shuffle(train_path_list)\n",
    "np.random.set_state(state)\n",
    "np.random.shuffle(train_label_list)\n",
    "#对train_test_split shuffle不太放心还是自己写吧"
   ]
  },
  {
   "cell_type": "code",
   "execution_count": 14,
   "metadata": {
    "_cell_guid": "fdce10a4-7433-4e38-b636-ab4e28493ef8",
    "_uuid": "6a2d3914-3c78-483a-8fa1-19e5ffa9d875"
   },
   "outputs": [],
   "source": [
    "train_label_list2=transform_label(train_label_list)"
   ]
  },
  {
   "cell_type": "code",
   "execution_count": 15,
   "metadata": {
    "_cell_guid": "c0527795-a703-4fcc-a61a-bb9feca4947a",
    "_uuid": "8f8f96ca-922d-4070-b28d-49d83f8b2d3b"
   },
   "outputs": [],
   "source": [
    "#用.flow一次性读取太恼火了，还不如在batch中生成spectrogram特性。simple-keras-model-with-data-generator的gen写的有问题\n",
    "#train_datagen=ImageDataGenerator()\n",
    "#train_generator=train_datagen.flow()\n",
    "def generate_batch(path_list,label_list,b_s=32,istraining=True): \n",
    "    \n",
    "    nsamples=len(path_list)\n",
    "    if nsamples%bs==0:\n",
    "        num=nsamples//bs\n",
    "    else:\n",
    "        num=nsamples//bs+1\n",
    "    \n",
    "    #b_s=len(path_list)//num\n",
    "    while 1:\n",
    "        for i in range(num):\n",
    "            x=path_list[i*b_s:(i+1)*b_s]\n",
    "            x=get_spectrogram(x,aug=istraining)\n",
    "            x=np.array(x)\n",
    "            if label_list is None:\n",
    "                yield x\n",
    "            else:\n",
    "                y=label_list[i*b_s:(i+1)*b_s]\n",
    "                y=keras.utils.np_utils.to_categorical(y)\n",
    "                yield x,y"
   ]
  },
  {
   "cell_type": "code",
   "execution_count": 16,
   "metadata": {
    "_cell_guid": "bff125f9-e939-4b52-af09-8cf2a5c63058",
    "_uuid": "4ec6a64e-6439-4914-985b-c0cfa257a560"
   },
   "outputs": [
    {
     "name": "stdout",
     "output_type": "stream",
     "text": [
      "66221\n",
      "66221\n",
      "66221\n"
     ]
    }
   ],
   "source": [
    "print(len(train_path_list))\n",
    "print(len(train_label_list2))\n",
    "print(len(train_label_list))"
   ]
  },
  {
   "cell_type": "code",
   "execution_count": 17,
   "metadata": {
    "_cell_guid": "fd8a1550-e383-49de-a78a-12cb922780c0",
    "_uuid": "cd2e12b4-876a-4109-9c83-c653f5462703"
   },
   "outputs": [],
   "source": [
    "x_train,x_val,y_train,y_val=train_test_split(train_path_list,train_label_list2,test_size=0.1,stratify=train_label_list2)"
   ]
  },
  {
   "cell_type": "code",
   "execution_count": 18,
   "metadata": {
    "_cell_guid": "b47d60da-4649-4a6c-aba6-5bcaeb7102a4",
    "_uuid": "b91d53c5-d145-45bb-8146-b711073ce752"
   },
   "outputs": [],
   "source": [
    "bs=32"
   ]
  },
  {
   "cell_type": "code",
   "execution_count": 19,
   "metadata": {
    "_cell_guid": "b1c93ab4-e35e-42a8-9d0a-daee5ec1db6d",
    "_uuid": "020e40a3-668b-4e9b-880d-ceac44b0ef71"
   },
   "outputs": [],
   "source": [
    "train_gen=generate_batch(x_train,y_train)\n",
    "val_gen=generate_batch(x_val,y_val,istraining=False)"
   ]
  },
  {
   "cell_type": "code",
   "execution_count": 20,
   "metadata": {
    "_cell_guid": "b320aaf4-845f-496d-ba63-4c6948bab5f9",
    "_uuid": "c9efe696-a33f-4c86-87ea-d6637b0ff4af"
   },
   "outputs": [],
   "source": [
    "def model(shape= (129, 124, 1)):\n",
    "    inputlayer = Input(shape=shape)    \n",
    "    model = BatchNormalization()(inputlayer)  #有人说input后的bn可以提取特征\n",
    "    \"\"\"\n",
    "    #这个网络，应该是根据\n",
    "    #Convolutional Neural Networks for Small-footprint Keyword Spotting\n",
    "    #搭的\n",
    "    model = Conv2D(16, (3, 3), activation='elu')(model) #右侧线性部分使得ELU能够缓解梯度消失，而左侧软饱能够让ELU对输入变化或噪声更鲁棒\n",
    "    model = Dropout(0.25)(model)\n",
    "    model = MaxPooling2D((2, 2))(model)\n",
    "\n",
    "    model = Flatten()(model)\n",
    "    model = Dense(32, activation='elu')(model)\n",
    "    model = Dropout(0.25)(model)\n",
    "    \"\"\"\n",
    "    #logspectro,resample->8000,shape=(99, 81, 1),epoch=3~5,bs=16,而且没有提取spectro\n",
    "    img_1 = Conv2D(8, kernel_size=2, activation='relu')(model)\n",
    "    img_1 = Conv2D(8, kernel_size=2, activation='relu')(img_1)\n",
    "    img_1 = MaxPooling2D(pool_size=(2, 2))(img_1)\n",
    "    img_1 = Dropout(rate=0.2)(img_1)\n",
    "    img_1 = Conv2D(16, kernel_size=3, activation='relu')(img_1)\n",
    "    img_1 = Conv2D(16, kernel_size=3, activation='relu')(img_1)\n",
    "    img_1 = MaxPooling2D(pool_size=(2, 2))(img_1)\n",
    "    img_1 = Dropout(rate=0.2)(img_1)\n",
    "    img_1 = Conv2D(32, kernel_size=3, activation='relu')(img_1)\n",
    "    img_1 = MaxPooling2D(pool_size=(2, 2))(img_1)\n",
    "    img_1 = Dropout(rate=0.2)(img_1)\n",
    "    img_1 = Flatten()(img_1)\n",
    "    dense_1 = BatchNormalization()(Dense(128, activation='relu')(img_1))\n",
    "    model = BatchNormalization()(Dense(128, activation='relu')(dense_1))\n",
    "    \n",
    "    output = Dense(12, activation='softmax')(model)   #要预测12种  #sigmoid是什么鬼\n",
    "    model = Model(inputs=inputlayer, outputs=output)    \n",
    "    return model"
   ]
  },
  {
   "cell_type": "code",
   "execution_count": 21,
   "metadata": {
    "_cell_guid": "77d50c98-3824-4584-a506-fc0b5b634cca",
    "_uuid": "101bb34e-9b7e-467f-bf92-75a3195649b3"
   },
   "outputs": [],
   "source": [
    "model = model()\n",
    "model.compile(loss='binary_crossentropy', optimizer=Adam(), metrics=['accuracy'])\n",
    "#这里是凑巧用这个函数更好"
   ]
  },
  {
   "cell_type": "code",
   "execution_count": 22,
   "metadata": {
    "_cell_guid": "10e78bc6-3c69-4d61-addf-5ad6bc721402",
    "_uuid": "11eb7eeb-db1f-42d2-a84c-02c9813dcd73"
   },
   "outputs": [],
   "source": [
    "def show_train_history(H):\n",
    "    plt.style.use(\"ggplot\")\n",
    "    plt.figure()\n",
    "    N = len(H.epoch) # 训练周期数\n",
    "    plt.plot(np.arange(0, N), H.history[\"loss\"], label=\"train_loss\")\n",
    "    plt.plot(np.arange(0, N), H.history[\"val_loss\"], label=\"val_loss\")\n",
    "    plt.plot(np.arange(0, N), H.history[\"acc\"], label=\"train_acc\")\n",
    "    plt.plot(np.arange(0, N), H.history[\"val_acc\"], label=\"val_acc\")\n",
    "    plt.title(\"Loss and Accuracy \")\n",
    "    plt.xlabel(\"Epoch #\")\n",
    "    plt.ylabel(\"Loss/Accuracy\")\n",
    "    plt.legend(loc=\"lower left\")\n",
    "    plt.savefig('plot.png')\n",
    "    plt.show()"
   ]
  },
  {
   "cell_type": "code",
   "execution_count": 23,
   "metadata": {
    "_cell_guid": "95fe3bdd-7204-4daf-8a81-b80dceb699bb",
    "_uuid": "3b588d02-4735-4a03-a445-5a06267bb406"
   },
   "outputs": [
    {
     "name": "stdout",
     "output_type": "stream",
     "text": [
      "Epoch 1/20\n",
      "1863/1863 [==============================] - 289s 155ms/step - loss: 0.1606 - acc: 0.9434 - val_loss: 0.1227 - val_acc: 0.9563\n",
      "Epoch 2/20\n",
      "1863/1863 [==============================] - 152s 81ms/step - loss: 0.0955 - acc: 0.9638 - val_loss: 0.0689 - val_acc: 0.9750\n",
      "Epoch 3/20\n",
      "1863/1863 [==============================] - 148s 79ms/step - loss: 0.0701 - acc: 0.9739 - val_loss: 0.0562 - val_acc: 0.9800\n",
      "Epoch 4/20\n",
      " 364/1863 [====>.........................] - ETA: 1:49 - loss: 0.0620 - acc: 0.9772"
     ]
    }
   ],
   "source": [
    "H=model.fit_generator(train_gen,steps_per_epoch=len(x_train)//32+1,epochs=20,\n",
    "                      validation_data=val_gen,validation_steps=len(x_val)//32+1,verbose=1)#e=60"
   ]
  },
  {
   "cell_type": "code",
   "execution_count": 24,
   "metadata": {},
   "outputs": [],
   "source": [
    "from sklearn.metrics import confusion_matrix"
   ]
  },
  {
   "cell_type": "code",
   "execution_count": 25,
   "metadata": {},
   "outputs": [],
   "source": [
    "pred_gen1=generate_batch(path_list=train_path_list,label_list=None,istraining=False)"
   ]
  },
  {
   "cell_type": "code",
   "execution_count": 26,
   "metadata": {},
   "outputs": [
    {
     "name": "stdout",
     "output_type": "stream",
     "text": [
      "2070/2070 [==============================] - 103s 50ms/step\n"
     ]
    }
   ],
   "source": [
    "pred=model.predict_generator(pred_gen1,steps=len(train_path_list)//bs+1,verbose=1)"
   ]
  },
  {
   "cell_type": "code",
   "execution_count": 27,
   "metadata": {},
   "outputs": [],
   "source": [
    "#print(np.argmax(pred,axis=1))"
   ]
  },
  {
   "cell_type": "code",
   "execution_count": 28,
   "metadata": {},
   "outputs": [
    {
     "data": {
      "text/plain": [
       "'\\ny_pred=[]\\nfor path in train_path_list:\\n    x=get_spectrogram([path],aug=False)\\n    p=model.predict(np.array(x))  #别忘了np.array\\n    p=(np.argmax(p,1))[0]\\n    #print(p)\\n    #print(id2name[p])\\n    y_pred.append(id2name[p])  #之前不是append，外面一层还有一对括号。现在不用extend\\n'"
      ]
     },
     "execution_count": 28,
     "metadata": {},
     "output_type": "execute_result"
    }
   ],
   "source": [
    "\"\"\"\n",
    "y_pred=[]\n",
    "for path in train_path_list:\n",
    "    x=get_spectrogram([path],aug=False)\n",
    "    p=model.predict(np.array(x))  #别忘了np.array\n",
    "    p=(np.argmax(p,1))[0]\n",
    "    #print(p)\n",
    "    #print(id2name[p])\n",
    "    y_pred.append(id2name[p])  #之前不是append，外面一层还有一对括号。现在不用extend\n",
    "\"\"\""
   ]
  },
  {
   "cell_type": "code",
   "execution_count": 29,
   "metadata": {},
   "outputs": [],
   "source": [
    "C=confusion_matrix(train_label_list2,np.argmax(pred,axis=1))#,labels=train+silence+['unknown'])"
   ]
  },
  {
   "cell_type": "code",
   "execution_count": 30,
   "metadata": {},
   "outputs": [
    {
     "name": "stdout",
     "output_type": "stream",
     "text": [
      "[[ 2258     0     0     0    11     0     0     0     0     0     1   107]\n",
      " [    0  2010     2    25     3     0     0     2     2   150     0   181]\n",
      " [    0     0  2136     0     1     0     1   125     1     0     0   111]\n",
      " [    2    15     0  2142     0     0     1     0     3    33     0   163]\n",
      " [    8     2     5     0  2207     1     0     2     0     1     0   127]\n",
      " [    0     0     0     0     9  2206     0     2     0     0     0   150]\n",
      " [    0     0     1     0     0     0  2192    34     1     0     0   139]\n",
      " [    0     0    15     0     0     0    16  2232     1     0     1    92]\n",
      " [    0     0    17     0     0     0     0    10  2235     5     1   112]\n",
      " [    1    42     5    16     0     1     3     6     4  2097     0   197]\n",
      " [    0     0     0     0     0     1     0     0     1     0  1331   167]\n",
      " [    7    17    28    24    23    36    74    90    24    87     6 40623]]\n"
     ]
    }
   ],
   "source": [
    "print(C)"
   ]
  },
  {
   "cell_type": "code",
   "execution_count": 31,
   "metadata": {},
   "outputs": [],
   "source": [
    "#plt.matshow(C)"
   ]
  },
  {
   "cell_type": "code",
   "execution_count": 32,
   "metadata": {
    "_cell_guid": "608234c5-65ce-4940-b557-0db22f9cfada",
    "_uuid": "62183489-2f49-42e3-bb8b-85a29af4bc53"
   },
   "outputs": [
    {
     "data": {
      "image/png": "[encoded data removed]",
      "text/plain": [
       "<Figure size 432x288 with 1 Axes>"
      ]
     },
     "metadata": {},
     "output_type": "display_data"
    }
   ],
   "source": [
    "show_train_history(H)"
   ]
  },
  {
   "cell_type": "code",
   "execution_count": 33,
   "metadata": {
    "_cell_guid": "d84652bc-7297-4e55-bd89-b23e6bed49a3",
    "_uuid": "e47c4996-85bb-4b16-b2ae-2449b6edd231"
   },
   "outputs": [],
   "source": [
    "evl_gen=generate_batch(train_path_list,train_label_list2,istraining=False)"
   ]
  },
  {
   "cell_type": "code",
   "execution_count": 34,
   "metadata": {
    "_cell_guid": "eedfb621-844d-46fc-bc00-b7fed036703b",
    "_uuid": "920a31b2-8fe2-4734-b020-ec14d4d2558c"
   },
   "outputs": [
    {
     "name": "stdout",
     "output_type": "stream",
     "text": [
      "2070/2070 [==============================] - 107s 52ms/step\n"
     ]
    },
    {
     "data": {
      "text/plain": [
       "[0.017298476830938533, 0.9936877903894945]"
      ]
     },
     "execution_count": 34,
     "metadata": {},
     "output_type": "execute_result"
    }
   ],
   "source": [
    "model.evaluate_generator(evl_gen,steps=len(train_path_list)//bs+1,verbose=1)"
   ]
  },
  {
   "cell_type": "code",
   "execution_count": 35,
   "metadata": {
    "_cell_guid": "6d7882bf-7b72-4a62-961f-fe044c4db321",
    "_uuid": "3f3995a0-74cf-4cdc-bf52-a2f41759382b"
   },
   "outputs": [],
   "source": [
    "model.save_weights('model_weights.h5')"
   ]
  },
  {
   "cell_type": "code",
   "execution_count": 36,
   "metadata": {
    "_cell_guid": "ac904a1c-8635-492b-9ce2-bd48f1c28dbb",
    "_uuid": "a330277c-ec6c-47c7-9a0c-f46fa278351f"
   },
   "outputs": [],
   "source": [
    "#test_path_list,id_list=get_test_path(\"../input/train/audio/yes/\")"
   ]
  },
  {
   "cell_type": "code",
   "execution_count": 37,
   "metadata": {
    "_cell_guid": "a28cfd10-90e8-4a0c-93a9-6d71b22df50a",
    "_uuid": "bd915dce-48d7-45f8-ac16-3bfcf0b2c12d"
   },
   "outputs": [
    {
     "data": {
      "text/plain": [
       "'\\npred=[]\\nfor path in test_path_list:\\n    x=get_spectrogram([path])\\n    p=model.predict(np.array(x))  #别忘了np.array\\n    p=(np.argmax(p,1))[0]\\n    #print(p)\\n    #print(id2name[p])\\n    pred.append(id2name[p])  #之前不是append，外面一层还有一对括号。现在不用extend\\nprint(pred)\\n'"
      ]
     },
     "execution_count": 37,
     "metadata": {},
     "output_type": "execute_result"
    }
   ],
   "source": [
    "\"\"\"\n",
    "pred=[]\n",
    "for path in test_path_list:\n",
    "    x=get_spectrogram([path])\n",
    "    p=model.predict(np.array(x))  #别忘了np.array\n",
    "    p=(np.argmax(p,1))[0]\n",
    "    #print(p)\n",
    "    #print(id2name[p])\n",
    "    pred.append(id2name[p])  #之前不是append，外面一层还有一对括号。现在不用extend\n",
    "print(pred)\n",
    "\"\"\""
   ]
  },
  {
   "cell_type": "code",
   "execution_count": 38,
   "metadata": {
    "_cell_guid": "093e68bc-67af-4492-a65d-15f7b8e43ebe",
    "_uuid": "1b271737-db60-4e21-9c9e-638666061272"
   },
   "outputs": [
    {
     "data": {
      "text/plain": [
       "'\\nprint(len(id_list))\\nprint(len(test_path_list))\\nprint(len(pred))\\n'"
      ]
     },
     "execution_count": 38,
     "metadata": {},
     "output_type": "execute_result"
    }
   ],
   "source": [
    "\"\"\"\n",
    "print(len(id_list))\n",
    "print(len(test_path_list))\n",
    "print(len(pred))\n",
    "\"\"\""
   ]
  },
  {
   "cell_type": "code",
   "execution_count": 39,
   "metadata": {
    "_cell_guid": "7d74d43c-6244-4f52-93e2-0ebae8851cd4",
    "_uuid": "e65dde8e-45f7-451a-ab02-50f2c737aad4"
   },
   "outputs": [
    {
     "data": {
      "text/plain": [
       "\"\\nresult=pd.DataFrame({'fname': id_list,'label': pred})\\nresult.to_csv('submission.csv', index=False)\\n\""
      ]
     },
     "execution_count": 39,
     "metadata": {},
     "output_type": "execute_result"
    }
   ],
   "source": [
    "\"\"\"\n",
    "result=pd.DataFrame({'fname': id_list,'label': pred})\n",
    "result.to_csv('submission.csv', index=False)\n",
    "\"\"\""
   ]
  }
 ],
 "metadata": {
  "kernelspec": {
   "display_name": "Python 3",
   "language": "python",
   "name": "python3"
  },
  "language_info": {
   "codemirror_mode": {
    "name": "ipython",
    "version": 3
   },
   "file_extension": ".py",
   "mimetype": "text/x-python",
   "name": "python",
   "nbconvert_exporter": "python",
   "pygments_lexer": "ipython3",
   "version": "3.6.6"
  }
 },
 "nbformat": 4,
 "nbformat_minor": 1
}
