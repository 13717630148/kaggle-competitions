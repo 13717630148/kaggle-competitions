{
 "cells": [
  {
   "cell_type": "code",
   "execution_count": 1,
   "metadata": {
    "_cell_guid": "b1076dfc-b9ad-4769-8c92-a6c4dae69d19",
    "_uuid": "8f2839f25d086af736a60e9eeb907d3b93b6e0e5"
   },
   "outputs": [
    {
     "name": "stderr",
     "output_type": "stream",
     "text": [
      "Using TensorFlow backend.\n"
     ]
    },
    {
     "name": "stdout",
     "output_type": "stream",
     "text": [
      "['sample_submission.csv', 'train.json', 'test.json']\n"
     ]
    }
   ],
   "source": [
    "# This Python 3 environment comes with many helpful analytics libraries installed\n",
    "# It is defined by the kaggle/python docker image: https://github.com/kaggle/docker-python\n",
    "# For example, here's several helpful packages to load in \n",
    "\n",
    "import numpy as np\n",
    "import pandas as pd\n",
    "import seaborn as sns\n",
    "sns.set_style('whitegrid')\n",
    "import matplotlib.pyplot as plt\n",
    "\n",
    "from keras.models import Model\n",
    "from keras.layers import Dense, Dropout, Bidirectional, CuDNNGRU, Reshape, GlobalMaxPooling1D, GlobalAveragePooling1D, Input, concatenate, BatchNormalization\n",
    "from keras.optimizers import Adam\n",
    "from keras.callbacks import ReduceLROnPlateau\n",
    "from sklearn.metrics import accuracy_score\n",
    "import os\n",
    "\n",
    "\n",
    "print(os.listdir(\"../input\"))\n",
    "\n",
    "# Any results you write to the current directory are saved as output."
   ]
  },
  {
   "cell_type": "code",
   "execution_count": 2,
   "metadata": {
    "_cell_guid": "79c7e3d0-c299-4dcb-8224-4455121ee9b0",
    "_uuid": "d629ff2d2480ee46fbb7e2d37f6b5fab8052498a"
   },
   "outputs": [],
   "source": [
    "df_train=pd.read_json('../input/train.json')\n",
    "df_test=pd.read_json('../input/test.json')"
   ]
  },
  {
   "cell_type": "code",
   "execution_count": 3,
   "metadata": {},
   "outputs": [
    {
     "name": "stdout",
     "output_type": "stream",
     "text": [
      "1195\n",
      "1196\n"
     ]
    }
   ],
   "source": [
    "print(df_train.shape[0])\n",
    "print(df_test.shape[0])"
   ]
  },
  {
   "cell_type": "code",
   "execution_count": 4,
   "metadata": {},
   "outputs": [
    {
     "data": {
      "text/html": [
       "<div>\n",
       "<style scoped>\n",
       "    .dataframe tbody tr th:only-of-type {\n",
       "        vertical-align: middle;\n",
       "    }\n",
       "\n",
       "    .dataframe tbody tr th {\n",
       "        vertical-align: top;\n",
       "    }\n",
       "\n",
       "    .dataframe thead th {\n",
       "        text-align: right;\n",
       "    }\n",
       "</style>\n",
       "<table border=\"1\" class=\"dataframe\">\n",
       "  <thead>\n",
       "    <tr style=\"text-align: right;\">\n",
       "      <th></th>\n",
       "      <th>audio_embedding</th>\n",
       "      <th>end_time_seconds_youtube_clip</th>\n",
       "      <th>is_turkey</th>\n",
       "      <th>start_time_seconds_youtube_clip</th>\n",
       "      <th>vid_id</th>\n",
       "    </tr>\n",
       "  </thead>\n",
       "  <tbody>\n",
       "    <tr>\n",
       "      <th>0</th>\n",
       "      <td>[[172, 34, 216, 110, 208, 46, 95, 66, 161, 125...</td>\n",
       "      <td>70</td>\n",
       "      <td>0</td>\n",
       "      <td>60</td>\n",
       "      <td>kDCk3hLIVXo</td>\n",
       "    </tr>\n",
       "    <tr>\n",
       "      <th>1</th>\n",
       "      <td>[[169, 20, 165, 102, 205, 62, 110, 103, 211, 1...</td>\n",
       "      <td>40</td>\n",
       "      <td>1</td>\n",
       "      <td>30</td>\n",
       "      <td>DPcGzqHoo7Y</td>\n",
       "    </tr>\n",
       "    <tr>\n",
       "      <th>2</th>\n",
       "      <td>[[148, 8, 138, 60, 237, 48, 121, 108, 145, 177...</td>\n",
       "      <td>240</td>\n",
       "      <td>1</td>\n",
       "      <td>230</td>\n",
       "      <td>7yM63MTHh5k</td>\n",
       "    </tr>\n",
       "    <tr>\n",
       "      <th>3</th>\n",
       "      <td>[[151, 0, 162, 88, 171, 71, 47, 90, 179, 190, ...</td>\n",
       "      <td>520</td>\n",
       "      <td>1</td>\n",
       "      <td>510</td>\n",
       "      <td>luG3RmUAxxM</td>\n",
       "    </tr>\n",
       "    <tr>\n",
       "      <th>4</th>\n",
       "      <td>[[162, 17, 187, 111, 211, 105, 92, 67, 203, 15...</td>\n",
       "      <td>10</td>\n",
       "      <td>0</td>\n",
       "      <td>0</td>\n",
       "      <td>PIm3cjxTpOk</td>\n",
       "    </tr>\n",
       "  </tbody>\n",
       "</table>\n",
       "</div>"
      ],
      "text/plain": [
       "                                     audio_embedding     ...            vid_id\n",
       "0  [[172, 34, 216, 110, 208, 46, 95, 66, 161, 125...     ...       kDCk3hLIVXo\n",
       "1  [[169, 20, 165, 102, 205, 62, 110, 103, 211, 1...     ...       DPcGzqHoo7Y\n",
       "2  [[148, 8, 138, 60, 237, 48, 121, 108, 145, 177...     ...       7yM63MTHh5k\n",
       "3  [[151, 0, 162, 88, 171, 71, 47, 90, 179, 190, ...     ...       luG3RmUAxxM\n",
       "4  [[162, 17, 187, 111, 211, 105, 92, 67, 203, 15...     ...       PIm3cjxTpOk\n",
       "\n",
       "[5 rows x 5 columns]"
      ]
     },
     "execution_count": 4,
     "metadata": {},
     "output_type": "execute_result"
    }
   ],
   "source": [
    "df_train.head()"
   ]
  },
  {
   "cell_type": "code",
   "execution_count": 5,
   "metadata": {},
   "outputs": [
    {
     "data": {
      "text/html": [
       "<div>\n",
       "<style scoped>\n",
       "    .dataframe tbody tr th:only-of-type {\n",
       "        vertical-align: middle;\n",
       "    }\n",
       "\n",
       "    .dataframe tbody tr th {\n",
       "        vertical-align: top;\n",
       "    }\n",
       "\n",
       "    .dataframe thead th {\n",
       "        text-align: right;\n",
       "    }\n",
       "</style>\n",
       "<table border=\"1\" class=\"dataframe\">\n",
       "  <thead>\n",
       "    <tr style=\"text-align: right;\">\n",
       "      <th></th>\n",
       "      <th>audio_embedding</th>\n",
       "      <th>end_time_seconds_youtube_clip</th>\n",
       "      <th>start_time_seconds_youtube_clip</th>\n",
       "      <th>vid_id</th>\n",
       "    </tr>\n",
       "  </thead>\n",
       "  <tbody>\n",
       "    <tr>\n",
       "      <th>0</th>\n",
       "      <td>[[177, 20, 226, 132, 198, 81, 111, 59, 132, 18...</td>\n",
       "      <td>10</td>\n",
       "      <td>0</td>\n",
       "      <td>pyKh38FXD3E</td>\n",
       "    </tr>\n",
       "    <tr>\n",
       "      <th>1</th>\n",
       "      <td>[[169, 21, 204, 161, 195, 72, 60, 39, 152, 184...</td>\n",
       "      <td>40</td>\n",
       "      <td>30</td>\n",
       "      <td>THhP1idrWXA</td>\n",
       "    </tr>\n",
       "    <tr>\n",
       "      <th>2</th>\n",
       "      <td>[[165, 13, 198, 141, 199, 81, 173, 54, 119, 11...</td>\n",
       "      <td>40</td>\n",
       "      <td>30</td>\n",
       "      <td>jsw3T6GY2Nw</td>\n",
       "    </tr>\n",
       "    <tr>\n",
       "      <th>3</th>\n",
       "      <td>[[167, 18, 188, 159, 198, 63, 156, 36, 179, 22...</td>\n",
       "      <td>24</td>\n",
       "      <td>14</td>\n",
       "      <td>nFkXTMHcjMU</td>\n",
       "    </tr>\n",
       "    <tr>\n",
       "      <th>4</th>\n",
       "      <td>[[178, 32, 181, 100, 198, 46, 82, 83, 136, 227...</td>\n",
       "      <td>40</td>\n",
       "      <td>30</td>\n",
       "      <td>Au8g9kAlrLQ</td>\n",
       "    </tr>\n",
       "  </tbody>\n",
       "</table>\n",
       "</div>"
      ],
      "text/plain": [
       "                                     audio_embedding     ...            vid_id\n",
       "0  [[177, 20, 226, 132, 198, 81, 111, 59, 132, 18...     ...       pyKh38FXD3E\n",
       "1  [[169, 21, 204, 161, 195, 72, 60, 39, 152, 184...     ...       THhP1idrWXA\n",
       "2  [[165, 13, 198, 141, 199, 81, 173, 54, 119, 11...     ...       jsw3T6GY2Nw\n",
       "3  [[167, 18, 188, 159, 198, 63, 156, 36, 179, 22...     ...       nFkXTMHcjMU\n",
       "4  [[178, 32, 181, 100, 198, 46, 82, 83, 136, 227...     ...       Au8g9kAlrLQ\n",
       "\n",
       "[5 rows x 4 columns]"
      ]
     },
     "execution_count": 5,
     "metadata": {},
     "output_type": "execute_result"
    }
   ],
   "source": [
    "df_test.head()"
   ]
  },
  {
   "cell_type": "code",
   "execution_count": 6,
   "metadata": {},
   "outputs": [
    {
     "data": {
      "image/png": "[encoded data removed]",
      "text/plain": [
       "<Figure size 864x576 with 1 Axes>"
      ]
     },
     "metadata": {},
     "output_type": "display_data"
    }
   ],
   "source": [
    "plt.figure(figsize=(12,8))\n",
    "sns.countplot(df_train['is_turkey'])\n",
    "plt.show()"
   ]
  },
  {
   "cell_type": "code",
   "execution_count": 7,
   "metadata": {},
   "outputs": [
    {
     "name": "stdout",
     "output_type": "stream",
     "text": [
      "<class 'pandas.core.frame.DataFrame'>\n",
      "RangeIndex: 1195 entries, 0 to 1194\n",
      "Data columns (total 5 columns):\n",
      "audio_embedding                    1195 non-null object\n",
      "end_time_seconds_youtube_clip      1195 non-null int64\n",
      "is_turkey                          1195 non-null int64\n",
      "start_time_seconds_youtube_clip    1195 non-null int64\n",
      "vid_id                             1195 non-null object\n",
      "dtypes: int64(3), object(2)\n",
      "memory usage: 46.8+ KB\n"
     ]
    }
   ],
   "source": [
    "df_train.info()"
   ]
  },
  {
   "cell_type": "code",
   "execution_count": 8,
   "metadata": {},
   "outputs": [
    {
     "name": "stdout",
     "output_type": "stream",
     "text": [
      "<class 'pandas.core.frame.DataFrame'>\n",
      "RangeIndex: 1196 entries, 0 to 1195\n",
      "Data columns (total 4 columns):\n",
      "audio_embedding                    1196 non-null object\n",
      "end_time_seconds_youtube_clip      1196 non-null int64\n",
      "start_time_seconds_youtube_clip    1196 non-null int64\n",
      "vid_id                             1196 non-null object\n",
      "dtypes: int64(2), object(2)\n",
      "memory usage: 37.5+ KB\n"
     ]
    }
   ],
   "source": [
    "df_test.info()"
   ]
  },
  {
   "cell_type": "code",
   "execution_count": 9,
   "metadata": {},
   "outputs": [],
   "source": [
    "df_train['length']=df_train['audio_embedding'].apply(len)"
   ]
  },
  {
   "cell_type": "code",
   "execution_count": 10,
   "metadata": {},
   "outputs": [
    {
     "data": {
      "image/png": "[encoded data removed]",
      "text/plain": [
       "<Figure size 864x576 with 1 Axes>"
      ]
     },
     "metadata": {},
     "output_type": "display_data"
    }
   ],
   "source": [
    "plt.figure(figsize=(12,8))\n",
    "plt.yscale('log')\n",
    "sns.countplot('length',hue='is_turkey',data=df_train)\n",
    "plt.show()"
   ]
  },
  {
   "cell_type": "code",
   "execution_count": 11,
   "metadata": {},
   "outputs": [],
   "source": [
    "from keras.preprocessing.sequence import pad_sequences\n",
    "from sklearn.model_selection import train_test_split"
   ]
  },
  {
   "cell_type": "code",
   "execution_count": 12,
   "metadata": {},
   "outputs": [],
   "source": [
    "max_len=10\n",
    "feature_size=128"
   ]
  },
  {
   "cell_type": "code",
   "execution_count": 13,
   "metadata": {},
   "outputs": [],
   "source": [
    "x=pad_sequences(df_train['audio_embedding'],maxlen=max_len,padding='post')\n",
    "#dataframe每一列本质是一个列表\n",
    "x_test=pad_sequences(df_test['audio_embedding'],maxlen=max_len,padding='post')"
   ]
  },
  {
   "cell_type": "code",
   "execution_count": 14,
   "metadata": {},
   "outputs": [],
   "source": [
    "y=df_train['is_turkey'].values\n",
    "#print(y)"
   ]
  },
  {
   "cell_type": "code",
   "execution_count": 15,
   "metadata": {},
   "outputs": [],
   "source": [
    "x_train,x_val,y_train,y_val=train_test_split(x,y,test_size=0.2)"
   ]
  },
  {
   "cell_type": "code",
   "execution_count": 16,
   "metadata": {},
   "outputs": [
    {
     "name": "stdout",
     "output_type": "stream",
     "text": [
      "956\n"
     ]
    }
   ],
   "source": [
    "print(x_train.shape[0])"
   ]
  },
  {
   "cell_type": "code",
   "execution_count": 17,
   "metadata": {},
   "outputs": [
    {
     "name": "stdout",
     "output_type": "stream",
     "text": [
      "[[169, 20, 165, 102, 205, 62, 110, 103, 211, 187, 53, 132, 120, 156, 9, 105, 156, 69, 147, 145, 3, 165, 95, 44, 112, 77, 178, 185, 146, 0, 30, 0, 68, 102, 144, 123, 0, 58, 169, 108, 0, 53, 36, 0, 227, 248, 21, 122, 0, 255, 249, 138, 37, 182, 133, 103, 230, 74, 18, 121, 0, 140, 4, 209, 117, 252, 59, 78, 153, 196, 104, 74, 255, 255, 63, 0, 130, 0, 0, 145, 52, 255, 255, 255, 255, 205, 66, 78, 0, 0, 0, 255, 6, 171, 39, 255, 237, 0, 255, 47, 173, 10, 103, 216, 119, 255, 65, 0, 206, 19, 0, 0, 0, 112, 73, 27, 124, 255, 0, 0, 32, 76, 99, 73, 255, 174, 32, 255], [175, 19, 155, 106, 210, 82, 109, 106, 202, 210, 77, 120, 122, 142, 53, 80, 138, 108, 151, 161, 11, 158, 95, 19, 88, 125, 221, 185, 142, 48, 47, 36, 129, 167, 96, 167, 0, 88, 162, 143, 48, 75, 26, 69, 177, 212, 37, 120, 0, 255, 220, 182, 40, 191, 54, 133, 214, 121, 75, 185, 57, 114, 0, 185, 108, 198, 76, 96, 175, 154, 149, 71, 255, 255, 91, 38, 89, 91, 67, 128, 112, 255, 255, 211, 211, 201, 102, 142, 3, 6, 26, 255, 8, 212, 28, 255, 152, 0, 207, 21, 157, 57, 107, 137, 112, 255, 111, 85, 212, 54, 0, 0, 23, 0, 186, 44, 30, 255, 0, 0, 130, 92, 97, 145, 255, 77, 0, 255], [176, 15, 173, 94, 201, 120, 133, 114, 155, 216, 104, 170, 73, 164, 84, 115, 139, 101, 143, 135, 23, 198, 104, 83, 81, 129, 149, 184, 147, 106, 100, 129, 113, 158, 76, 133, 82, 93, 205, 30, 158, 133, 78, 112, 143, 191, 98, 68, 148, 160, 190, 74, 136, 170, 130, 85, 226, 76, 128, 252, 255, 106, 66, 255, 127, 244, 166, 63, 167, 141, 168, 197, 226, 255, 56, 112, 94, 225, 113, 118, 147, 159, 206, 202, 91, 110, 91, 212, 164, 133, 226, 250, 87, 127, 163, 255, 35, 144, 186, 187, 130, 99, 106, 40, 8, 164, 159, 219, 233, 254, 22, 118, 136, 57, 126, 38, 28, 238, 35, 22, 51, 144, 0, 118, 255, 0, 0, 255], [175, 13, 150, 112, 200, 76, 91, 94, 180, 191, 84, 146, 50, 144, 49, 61, 181, 117, 95, 147, 35, 163, 114, 53, 100, 90, 197, 180, 74, 132, 64, 116, 79, 121, 76, 188, 131, 33, 187, 110, 53, 96, 79, 83, 143, 167, 42, 116, 58, 255, 159, 158, 96, 196, 189, 103, 246, 63, 91, 238, 83, 104, 6, 213, 145, 204, 185, 132, 153, 150, 100, 147, 204, 255, 22, 48, 0, 144, 31, 13, 131, 255, 184, 172, 103, 134, 160, 175, 55, 96, 93, 255, 92, 53, 125, 255, 120, 104, 229, 95, 142, 0, 0, 11, 0, 255, 35, 144, 132, 109, 38, 111, 85, 3, 145, 37, 117, 255, 0, 108, 51, 87, 87, 69, 155, 0, 83, 255], [173, 12, 171, 95, 200, 99, 118, 113, 150, 159, 112, 126, 95, 155, 77, 98, 113, 122, 149, 136, 33, 220, 96, 102, 86, 130, 165, 177, 121, 82, 106, 110, 100, 147, 135, 149, 89, 94, 151, 57, 165, 144, 105, 136, 113, 181, 99, 140, 80, 162, 157, 83, 101, 107, 111, 113, 224, 92, 97, 194, 223, 96, 41, 230, 111, 237, 166, 34, 168, 157, 84, 159, 159, 198, 81, 120, 101, 205, 149, 106, 86, 133, 208, 134, 69, 119, 72, 189, 120, 128, 151, 150, 132, 82, 143, 247, 95, 66, 189, 209, 187, 82, 45, 62, 17, 184, 171, 200, 203, 159, 32, 52, 73, 128, 96, 116, 105, 200, 28, 6, 79, 181, 40, 150, 215, 28, 0, 255], [174, 11, 161, 87, 215, 113, 143, 131, 144, 185, 100, 157, 63, 172, 100, 123, 125, 170, 94, 119, 39, 204, 118, 114, 107, 138, 145, 193, 134, 129, 169, 134, 108, 196, 42, 177, 96, 79, 155, 104, 144, 155, 104, 181, 129, 162, 27, 120, 120, 207, 111, 103, 97, 188, 121, 66, 152, 80, 124, 255, 181, 100, 180, 240, 162, 235, 128, 107, 151, 144, 131, 172, 159, 251, 131, 131, 69, 117, 81, 86, 160, 175, 179, 190, 35, 102, 208, 255, 130, 189, 194, 176, 169, 115, 122, 255, 65, 116, 255, 185, 164, 110, 130, 22, 0, 255, 159, 255, 149, 172, 43, 255, 152, 56, 181, 73, 42, 152, 5, 0, 64, 164, 35, 92, 218, 0, 34, 255], [176, 12, 162, 84, 199, 96, 134, 132, 146, 188, 93, 143, 53, 170, 87, 101, 106, 130, 86, 105, 36, 207, 117, 94, 105, 136, 156, 193, 142, 162, 156, 105, 102, 132, 44, 183, 132, 52, 173, 121, 161, 154, 99, 137, 120, 205, 55, 58, 109, 167, 130, 70, 47, 191, 136, 67, 178, 75, 99, 219, 222, 76, 97, 214, 124, 228, 130, 87, 110, 171, 91, 165, 185, 229, 130, 124, 58, 133, 89, 51, 174, 240, 209, 183, 64, 129, 198, 225, 123, 162, 204, 155, 139, 123, 93, 255, 88, 85, 231, 204, 156, 107, 75, 65, 0, 243, 129, 209, 182, 203, 3, 215, 133, 53, 118, 45, 12, 92, 0, 58, 87, 147, 50, 170, 224, 0, 0, 255], [174, 8, 163, 80, 204, 104, 141, 136, 148, 165, 98, 168, 40, 171, 96, 127, 104, 138, 83, 104, 30, 215, 119, 106, 100, 142, 161, 172, 149, 160, 150, 120, 117, 187, 13, 170, 127, 33, 141, 102, 161, 138, 105, 164, 111, 217, 28, 70, 145, 193, 124, 17, 28, 211, 126, 49, 154, 123, 138, 235, 183, 71, 93, 244, 151, 209, 150, 110, 106, 174, 121, 175, 220, 204, 153, 117, 88, 136, 21, 56, 176, 241, 198, 180, 59, 123, 212, 250, 134, 163, 212, 119, 173, 92, 90, 255, 40, 81, 255, 212, 143, 130, 87, 93, 0, 255, 101, 255, 191, 197, 45, 255, 139, 88, 145, 53, 12, 144, 0, 60, 94, 182, 30, 172, 255, 0, 0, 255], [171, 14, 175, 86, 184, 95, 122, 106, 160, 163, 87, 147, 71, 168, 42, 128, 109, 90, 131, 131, 18, 244, 102, 119, 72, 111, 168, 167, 139, 88, 75, 61, 118, 111, 104, 130, 51, 59, 199, 17, 129, 93, 68, 113, 169, 216, 85, 112, 125, 248, 196, 9, 90, 118, 119, 98, 216, 95, 109, 198, 205, 50, 0, 247, 125, 236, 182, 64, 163, 203, 97, 179, 255, 246, 125, 75, 84, 186, 140, 89, 79, 193, 192, 159, 94, 180, 70, 193, 133, 122, 128, 205, 116, 0, 145, 255, 30, 54, 246, 247, 112, 73, 103, 100, 0, 156, 118, 148, 213, 128, 119, 5, 37, 150, 59, 60, 32, 255, 0, 37, 65, 224, 16, 121, 255, 36, 0, 255], [170, 13, 172, 89, 195, 95, 119, 105, 164, 154, 87, 144, 83, 159, 56, 113, 113, 90, 133, 130, 15, 236, 85, 111, 87, 126, 179, 162, 129, 61, 82, 58, 123, 108, 142, 140, 70, 78, 138, 27, 142, 130, 97, 112, 165, 218, 77, 138, 78, 251, 165, 73, 72, 128, 126, 121, 218, 111, 92, 177, 177, 91, 17, 253, 131, 241, 162, 41, 166, 170, 72, 167, 232, 196, 81, 74, 104, 178, 149, 85, 67, 175, 230, 166, 135, 163, 53, 165, 104, 133, 114, 186, 127, 23, 124, 255, 84, 35, 209, 253, 148, 47, 76, 68, 25, 214, 131, 109, 202, 123, 47, 0, 20, 177, 105, 109, 39, 255, 0, 0, 119, 205, 27, 151, 226, 44, 0, 255]]\n"
     ]
    }
   ],
   "source": [
    "print(df_train['audio_embedding'][1])"
   ]
  },
  {
   "cell_type": "code",
   "execution_count": 18,
   "metadata": {},
   "outputs": [],
   "source": [
    "def build_model():\n",
    "    inp = Input(shape=(max_len, feature_size))\n",
    "    x = BatchNormalization()(inp)\n",
    "    x = Bidirectional(CuDNNGRU(128, return_sequences=True))(x)\n",
    "    x = Bidirectional(CuDNNGRU(64, return_sequences=True))(x)\n",
    "    avg_pool = GlobalAveragePooling1D()(x)\n",
    "    max_pool = GlobalMaxPooling1D()(x)\n",
    "    concat = concatenate([avg_pool, max_pool])\n",
    "    concat = Dense(64, activation=\"relu\")(concat)\n",
    "    concat = Dropout(0.5)(concat)\n",
    "    output = Dense(1, activation=\"sigmoid\")(concat)\n",
    "    model = Model(inputs=inp, outputs=output)\n",
    "    model.compile(loss='binary_crossentropy', optimizer=Adam(lr=0.0001), metrics=['accuracy'])\n",
    "    return model"
   ]
  },
  {
   "cell_type": "code",
   "execution_count": 19,
   "metadata": {},
   "outputs": [
    {
     "name": "stdout",
     "output_type": "stream",
     "text": [
      "WARNING:tensorflow:From /opt/conda/lib/python3.6/site-packages/tensorflow/python/framework/op_def_library.py:263: colocate_with (from tensorflow.python.framework.ops) is deprecated and will be removed in a future version.\n",
      "Instructions for updating:\n",
      "Colocations handled automatically by placer.\n",
      "WARNING:tensorflow:From /opt/conda/lib/python3.6/site-packages/keras/backend/tensorflow_backend.py:3445: calling dropout (from tensorflow.python.ops.nn_ops) with keep_prob is deprecated and will be removed in a future version.\n",
      "Instructions for updating:\n",
      "Please use `rate` instead of `keep_prob`. Rate should be set to `rate = 1 - keep_prob`.\n"
     ]
    }
   ],
   "source": [
    "model=build_model()"
   ]
  },
  {
   "cell_type": "code",
   "execution_count": 20,
   "metadata": {},
   "outputs": [
    {
     "name": "stdout",
     "output_type": "stream",
     "text": [
      "__________________________________________________________________________________________________\n",
      "Layer (type)                    Output Shape         Param #     Connected to                     \n",
      "==================================================================================================\n",
      "input_1 (InputLayer)            (None, 10, 128)      0                                            \n",
      "__________________________________________________________________________________________________\n",
      "batch_normalization_1 (BatchNor (None, 10, 128)      512         input_1[0][0]                    \n",
      "__________________________________________________________________________________________________\n",
      "bidirectional_1 (Bidirectional) (None, 10, 256)      198144      batch_normalization_1[0][0]      \n",
      "__________________________________________________________________________________________________\n",
      "bidirectional_2 (Bidirectional) (None, 10, 128)      123648      bidirectional_1[0][0]            \n",
      "__________________________________________________________________________________________________\n",
      "global_average_pooling1d_1 (Glo (None, 128)          0           bidirectional_2[0][0]            \n",
      "__________________________________________________________________________________________________\n",
      "global_max_pooling1d_1 (GlobalM (None, 128)          0           bidirectional_2[0][0]            \n",
      "__________________________________________________________________________________________________\n",
      "concatenate_1 (Concatenate)     (None, 256)          0           global_average_pooling1d_1[0][0] \n",
      "                                                                 global_max_pooling1d_1[0][0]     \n",
      "__________________________________________________________________________________________________\n",
      "dense_1 (Dense)                 (None, 64)           16448       concatenate_1[0][0]              \n",
      "__________________________________________________________________________________________________\n",
      "dropout_1 (Dropout)             (None, 64)           0           dense_1[0][0]                    \n",
      "__________________________________________________________________________________________________\n",
      "dense_2 (Dense)                 (None, 1)            65          dropout_1[0][0]                  \n",
      "==================================================================================================\n",
      "Total params: 338,817\n",
      "Trainable params: 338,561\n",
      "Non-trainable params: 256\n",
      "__________________________________________________________________________________________________\n"
     ]
    }
   ],
   "source": [
    "model.summary()"
   ]
  },
  {
   "cell_type": "code",
   "execution_count": 21,
   "metadata": {},
   "outputs": [],
   "source": [
    "rlr=ReduceLROnPlateau(monitor='val_acc',factor=0.1,patience=2,verbose=1,min_lr=1e-8)"
   ]
  },
  {
   "cell_type": "code",
   "execution_count": 22,
   "metadata": {},
   "outputs": [],
   "source": [
    "epochs=30"
   ]
  },
  {
   "cell_type": "code",
   "execution_count": 23,
   "metadata": {},
   "outputs": [
    {
     "name": "stdout",
     "output_type": "stream",
     "text": [
      "WARNING:tensorflow:From /opt/conda/lib/python3.6/site-packages/tensorflow/python/ops/math_ops.py:3066: to_int32 (from tensorflow.python.ops.math_ops) is deprecated and will be removed in a future version.\n",
      "Instructions for updating:\n",
      "Use tf.cast instead.\n",
      "WARNING:tensorflow:From /opt/conda/lib/python3.6/site-packages/tensorflow/python/ops/math_grad.py:102: div (from tensorflow.python.ops.math_ops) is deprecated and will be removed in a future version.\n",
      "Instructions for updating:\n",
      "Deprecated in favor of operator or tf.math.divide.\n",
      "Train on 956 samples, validate on 239 samples\n",
      "Epoch 1/30\n",
      " - 5s - loss: 0.6842 - acc: 0.5795 - val_loss: 0.6025 - val_acc: 0.7615\n",
      "Epoch 2/30\n",
      " - 0s - loss: 0.6018 - acc: 0.7008 - val_loss: 0.5339 - val_acc: 0.8494\n",
      "Epoch 3/30\n",
      " - 0s - loss: 0.5332 - acc: 0.7929 - val_loss: 0.4741 - val_acc: 0.8996\n",
      "Epoch 4/30\n",
      " - 0s - loss: 0.4941 - acc: 0.8253 - val_loss: 0.4221 - val_acc: 0.9331\n",
      "Epoch 5/30\n",
      " - 0s - loss: 0.4331 - acc: 0.8703 - val_loss: 0.3766 - val_acc: 0.9331\n",
      "Epoch 6/30\n",
      " - 0s - loss: 0.3823 - acc: 0.8985 - val_loss: 0.3365 - val_acc: 0.9414\n",
      "Epoch 7/30\n",
      " - 0s - loss: 0.3539 - acc: 0.9059 - val_loss: 0.3018 - val_acc: 0.9372\n",
      "Epoch 8/30\n",
      " - 0s - loss: 0.3289 - acc: 0.9079 - val_loss: 0.2718 - val_acc: 0.9372\n",
      "\n",
      "Epoch 00008: ReduceLROnPlateau reducing learning rate to 9.999999747378752e-06.\n",
      "Epoch 9/30\n",
      " - 0s - loss: 0.3016 - acc: 0.9331 - val_loss: 0.2691 - val_acc: 0.9331\n",
      "Epoch 10/30\n",
      " - 0s - loss: 0.3001 - acc: 0.9184 - val_loss: 0.2666 - val_acc: 0.9331\n",
      "\n",
      "Epoch 00010: ReduceLROnPlateau reducing learning rate to 9.999999747378752e-07.\n",
      "Epoch 11/30\n",
      " - 0s - loss: 0.2927 - acc: 0.9226 - val_loss: 0.2663 - val_acc: 0.9331\n",
      "Epoch 12/30\n",
      " - 0s - loss: 0.2952 - acc: 0.9268 - val_loss: 0.2661 - val_acc: 0.9331\n",
      "\n",
      "Epoch 00012: ReduceLROnPlateau reducing learning rate to 9.999999974752428e-08.\n",
      "Epoch 13/30\n",
      " - 0s - loss: 0.2953 - acc: 0.9184 - val_loss: 0.2660 - val_acc: 0.9331\n",
      "Epoch 14/30\n",
      " - 0s - loss: 0.2906 - acc: 0.9236 - val_loss: 0.2660 - val_acc: 0.9331\n",
      "\n",
      "Epoch 00014: ReduceLROnPlateau reducing learning rate to 1.0000000116860975e-08.\n",
      "Epoch 15/30\n",
      " - 0s - loss: 0.2972 - acc: 0.9184 - val_loss: 0.2660 - val_acc: 0.9331\n",
      "Epoch 16/30\n",
      " - 0s - loss: 0.3013 - acc: 0.9226 - val_loss: 0.2660 - val_acc: 0.9331\n",
      "Epoch 17/30\n",
      " - 0s - loss: 0.2947 - acc: 0.9310 - val_loss: 0.2660 - val_acc: 0.9331\n",
      "Epoch 18/30\n",
      " - 0s - loss: 0.2941 - acc: 0.9331 - val_loss: 0.2660 - val_acc: 0.9331\n",
      "Epoch 19/30\n",
      " - 0s - loss: 0.2908 - acc: 0.9247 - val_loss: 0.2659 - val_acc: 0.9331\n",
      "Epoch 20/30\n",
      " - 0s - loss: 0.2938 - acc: 0.9372 - val_loss: 0.2660 - val_acc: 0.9331\n",
      "Epoch 21/30\n",
      " - 0s - loss: 0.3009 - acc: 0.9163 - val_loss: 0.2659 - val_acc: 0.9331\n",
      "Epoch 22/30\n",
      " - 0s - loss: 0.2965 - acc: 0.9247 - val_loss: 0.2660 - val_acc: 0.9331\n",
      "Epoch 23/30\n",
      " - 0s - loss: 0.2950 - acc: 0.9205 - val_loss: 0.2659 - val_acc: 0.9331\n",
      "Epoch 24/30\n",
      " - 0s - loss: 0.3026 - acc: 0.9215 - val_loss: 0.2660 - val_acc: 0.9331\n",
      "Epoch 25/30\n",
      " - 0s - loss: 0.2852 - acc: 0.9310 - val_loss: 0.2660 - val_acc: 0.9331\n",
      "Epoch 26/30\n",
      " - 0s - loss: 0.2945 - acc: 0.9257 - val_loss: 0.2659 - val_acc: 0.9331\n",
      "Epoch 27/30\n",
      " - 0s - loss: 0.2963 - acc: 0.9236 - val_loss: 0.2659 - val_acc: 0.9331\n",
      "Epoch 28/30\n",
      " - 0s - loss: 0.3035 - acc: 0.9205 - val_loss: 0.2659 - val_acc: 0.9331\n",
      "Epoch 29/30\n",
      " - 0s - loss: 0.3000 - acc: 0.9163 - val_loss: 0.2659 - val_acc: 0.9331\n",
      "Epoch 30/30\n",
      " - 0s - loss: 0.2935 - acc: 0.9289 - val_loss: 0.2659 - val_acc: 0.9331\n"
     ]
    }
   ],
   "source": [
    "H=model.fit(x_train,y_train,epochs=epochs,batch_size=256,validation_data=[x_val,y_val],verbose=2,callbacks=[rlr])"
   ]
  },
  {
   "cell_type": "code",
   "execution_count": 24,
   "metadata": {},
   "outputs": [],
   "source": [
    "def show_train_history(H):\n",
    "    plt.style.use(\"ggplot\")\n",
    "    plt.figure()\n",
    "    N = len(H.epoch) # 训练周期数\n",
    "    plt.plot(np.arange(0, N), H.history[\"loss\"], label=\"train_loss\")\n",
    "    plt.plot(np.arange(0, N), H.history[\"val_loss\"], label=\"val_loss\")\n",
    "    plt.plot(np.arange(0, N), H.history[\"acc\"], label=\"train_acc\")\n",
    "    plt.plot(np.arange(0, N), H.history[\"val_acc\"], label=\"val_acc\")\n",
    "    plt.title(\"Loss and Accuracy \")\n",
    "    plt.xlabel(\"Epoch #\")\n",
    "    plt.ylabel(\"Loss/Accuracy\")\n",
    "    plt.legend(loc=\"lower left\")\n",
    "    plt.savefig('plot.png')\n",
    "plt.show()\n"
   ]
  },
  {
   "cell_type": "code",
   "execution_count": 25,
   "metadata": {},
   "outputs": [
    {
     "data": {
      "image/png": "[encoded data removed]",
      "text/plain": [
       "<Figure size 432x288 with 1 Axes>"
      ]
     },
     "metadata": {},
     "output_type": "display_data"
    }
   ],
   "source": [
    "show_train_history(H)"
   ]
  },
  {
   "cell_type": "code",
   "execution_count": 26,
   "metadata": {},
   "outputs": [
    {
     "name": "stdout",
     "output_type": "stream",
     "text": [
      "239/239 [==============================] - 0s 139us/step\n"
     ]
    },
    {
     "data": {
      "text/plain": [
       "[0.2658851055669984, 0.933054393804223]"
      ]
     },
     "execution_count": 26,
     "metadata": {},
     "output_type": "execute_result"
    }
   ],
   "source": [
    "model.evaluate(x_val,y_val,verbose=1)"
   ]
  },
  {
   "cell_type": "code",
   "execution_count": 27,
   "metadata": {},
   "outputs": [
    {
     "name": "stdout",
     "output_type": "stream",
     "text": [
      "Epoch 1/30\n",
      "1195/1195 [==============================] - 1s 989us/step - loss: 0.6586 - acc: 0.6017\n",
      "Epoch 2/30\n",
      "1195/1195 [==============================] - 0s 44us/step - loss: 0.5781 - acc: 0.7322\n",
      "Epoch 3/30\n",
      "1195/1195 [==============================] - 0s 47us/step - loss: 0.4851 - acc: 0.8218\n",
      "Epoch 4/30\n",
      "1195/1195 [==============================] - 0s 44us/step - loss: 0.4303 - acc: 0.8644\n",
      "Epoch 5/30\n",
      "1195/1195 [==============================] - 0s 44us/step - loss: 0.3726 - acc: 0.8962\n",
      "Epoch 6/30\n",
      "1195/1195 [==============================] - 0s 48us/step - loss: 0.3402 - acc: 0.9105\n",
      "Epoch 7/30\n",
      "1195/1195 [==============================] - 0s 45us/step - loss: 0.2938 - acc: 0.9297\n",
      "Epoch 8/30\n",
      "1195/1195 [==============================] - 0s 45us/step - loss: 0.2635 - acc: 0.9264\n",
      "Epoch 9/30\n",
      "1195/1195 [==============================] - 0s 47us/step - loss: 0.2419 - acc: 0.9356\n",
      "Epoch 10/30\n",
      "1195/1195 [==============================] - 0s 44us/step - loss: 0.2145 - acc: 0.9431\n",
      "Epoch 11/30\n",
      "1195/1195 [==============================] - 0s 44us/step - loss: 0.2099 - acc: 0.9381\n",
      "Epoch 12/30\n",
      "1195/1195 [==============================] - 0s 45us/step - loss: 0.1907 - acc: 0.9464\n",
      "Epoch 13/30\n",
      "1195/1195 [==============================] - 0s 45us/step - loss: 0.1817 - acc: 0.9406\n",
      "Epoch 14/30\n",
      "1195/1195 [==============================] - 0s 43us/step - loss: 0.1790 - acc: 0.9439\n",
      "Epoch 15/30\n",
      "1195/1195 [==============================] - 0s 44us/step - loss: 0.1656 - acc: 0.9481\n",
      "Epoch 16/30\n",
      "1195/1195 [==============================] - 0s 45us/step - loss: 0.1568 - acc: 0.9431\n",
      "Epoch 17/30\n",
      "1195/1195 [==============================] - 0s 46us/step - loss: 0.1475 - acc: 0.9515\n",
      "Epoch 18/30\n",
      "1195/1195 [==============================] - 0s 45us/step - loss: 0.1488 - acc: 0.9506\n",
      "Epoch 19/30\n",
      "1195/1195 [==============================] - 0s 47us/step - loss: 0.1355 - acc: 0.9515\n",
      "Epoch 20/30\n",
      "1195/1195 [==============================] - 0s 44us/step - loss: 0.1342 - acc: 0.9531\n",
      "Epoch 21/30\n",
      "1195/1195 [==============================] - 0s 43us/step - loss: 0.1295 - acc: 0.9548\n",
      "Epoch 22/30\n",
      "1195/1195 [==============================] - 0s 46us/step - loss: 0.1241 - acc: 0.9548\n",
      "Epoch 23/30\n",
      "1195/1195 [==============================] - 0s 45us/step - loss: 0.1271 - acc: 0.9548\n",
      "Epoch 24/30\n",
      "1195/1195 [==============================] - 0s 45us/step - loss: 0.1218 - acc: 0.9565\n",
      "Epoch 25/30\n",
      "1195/1195 [==============================] - 0s 44us/step - loss: 0.1159 - acc: 0.9623\n",
      "Epoch 26/30\n",
      "1195/1195 [==============================] - 0s 45us/step - loss: 0.1159 - acc: 0.9598\n",
      "Epoch 27/30\n",
      "1195/1195 [==============================] - 0s 46us/step - loss: 0.1166 - acc: 0.9640\n",
      "Epoch 28/30\n",
      "1195/1195 [==============================] - 0s 46us/step - loss: 0.1104 - acc: 0.9615\n",
      "Epoch 29/30\n",
      "1195/1195 [==============================] - 0s 47us/step - loss: 0.1040 - acc: 0.9640\n",
      "Epoch 30/30\n",
      "1195/1195 [==============================] - 0s 44us/step - loss: 0.1026 - acc: 0.9657\n"
     ]
    }
   ],
   "source": [
    "model_final=build_model()\n",
    "HH=model_final.fit(x,y,epochs=30,batch_size=256,verbose=1)"
   ]
  },
  {
   "cell_type": "code",
   "execution_count": 28,
   "metadata": {},
   "outputs": [
    {
     "name": "stdout",
     "output_type": "stream",
     "text": [
      "1196/1196 [==============================] - 0s 314us/step\n"
     ]
    }
   ],
   "source": [
    "y_test=model_final.predict(x_test,verbose=1)"
   ]
  },
  {
   "cell_type": "code",
   "execution_count": 29,
   "metadata": {},
   "outputs": [
    {
     "name": "stdout",
     "output_type": "stream",
     "text": [
      "[[1.6252398e-03]\n",
      " [7.8639388e-04]\n",
      " [1.0099977e-02]\n",
      " ...\n",
      " [9.9429166e-01]\n",
      " [2.1308243e-02]\n",
      " [1.5514135e-02]]\n"
     ]
    }
   ],
   "source": [
    "print(y_test)"
   ]
  },
  {
   "cell_type": "code",
   "execution_count": 30,
   "metadata": {},
   "outputs": [
    {
     "name": "stdout",
     "output_type": "stream",
     "text": [
      "<class 'numpy.ndarray'>\n"
     ]
    }
   ],
   "source": [
    "print(type(y_test))"
   ]
  },
  {
   "cell_type": "code",
   "execution_count": 31,
   "metadata": {},
   "outputs": [
    {
     "data": {
      "text/plain": [
       "'\\ny_test2=list(y_test)\\nprint(y_test2)\\nprint(type(y_test2))\\n'"
      ]
     },
     "execution_count": 31,
     "metadata": {},
     "output_type": "execute_result"
    }
   ],
   "source": [
    "\"\"\"\n",
    "y_test2=list(y_test)\n",
    "print(y_test2)\n",
    "print(type(y_test2))\n",
    "\"\"\""
   ]
  },
  {
   "cell_type": "code",
   "execution_count": 32,
   "metadata": {},
   "outputs": [],
   "source": [
    "result=pd.DataFrame({'vid_id':df_test['vid_id'].values,'is_turkey':list(y_test.flatten())})"
   ]
  },
  {
   "cell_type": "code",
   "execution_count": 33,
   "metadata": {},
   "outputs": [
    {
     "data": {
      "text/html": [
       "<div>\n",
       "<style scoped>\n",
       "    .dataframe tbody tr th:only-of-type {\n",
       "        vertical-align: middle;\n",
       "    }\n",
       "\n",
       "    .dataframe tbody tr th {\n",
       "        vertical-align: top;\n",
       "    }\n",
       "\n",
       "    .dataframe thead th {\n",
       "        text-align: right;\n",
       "    }\n",
       "</style>\n",
       "<table border=\"1\" class=\"dataframe\">\n",
       "  <thead>\n",
       "    <tr style=\"text-align: right;\">\n",
       "      <th></th>\n",
       "      <th>vid_id</th>\n",
       "      <th>is_turkey</th>\n",
       "    </tr>\n",
       "  </thead>\n",
       "  <tbody>\n",
       "    <tr>\n",
       "      <th>0</th>\n",
       "      <td>pyKh38FXD3E</td>\n",
       "      <td>0.001625</td>\n",
       "    </tr>\n",
       "    <tr>\n",
       "      <th>1</th>\n",
       "      <td>THhP1idrWXA</td>\n",
       "      <td>0.000786</td>\n",
       "    </tr>\n",
       "    <tr>\n",
       "      <th>2</th>\n",
       "      <td>jsw3T6GY2Nw</td>\n",
       "      <td>0.010100</td>\n",
       "    </tr>\n",
       "    <tr>\n",
       "      <th>3</th>\n",
       "      <td>nFkXTMHcjMU</td>\n",
       "      <td>0.003222</td>\n",
       "    </tr>\n",
       "    <tr>\n",
       "      <th>4</th>\n",
       "      <td>Au8g9kAlrLQ</td>\n",
       "      <td>0.846170</td>\n",
       "    </tr>\n",
       "  </tbody>\n",
       "</table>\n",
       "</div>"
      ],
      "text/plain": [
       "        vid_id  is_turkey\n",
       "0  pyKh38FXD3E   0.001625\n",
       "1  THhP1idrWXA   0.000786\n",
       "2  jsw3T6GY2Nw   0.010100\n",
       "3  nFkXTMHcjMU   0.003222\n",
       "4  Au8g9kAlrLQ   0.846170"
      ]
     },
     "execution_count": 33,
     "metadata": {},
     "output_type": "execute_result"
    }
   ],
   "source": [
    "result.head()"
   ]
  },
  {
   "cell_type": "code",
   "execution_count": 34,
   "metadata": {},
   "outputs": [],
   "source": [
    "result.to_csv('result.csv',index=False)"
   ]
  }
 ],
 "metadata": {
  "kernelspec": {
   "display_name": "Python 3",
   "language": "python",
   "name": "python3"
  },
  "language_info": {
   "codemirror_mode": {
    "name": "ipython",
    "version": 3
   },
   "file_extension": ".py",
   "mimetype": "text/x-python",
   "name": "python",
   "nbconvert_exporter": "python",
   "pygments_lexer": "ipython3",
   "version": "3.6.4"
  }
 },
 "nbformat": 4,
 "nbformat_minor": 1
}
